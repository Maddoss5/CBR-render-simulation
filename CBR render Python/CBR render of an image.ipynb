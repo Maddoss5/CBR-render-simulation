{
 "cells": [
  {
   "cell_type": "code",
   "execution_count": 1,
   "id": "e7652f69",
   "metadata": {},
   "outputs": [],
   "source": [
    "import sys\n",
    "import os\n",
    "import cv2\n",
    "import numpy as np"
   ]
  },
  {
   "cell_type": "code",
   "execution_count": 2,
   "id": "d74637c1",
   "metadata": {},
   "outputs": [],
   "source": [
    "img = cv2.imread(\"93457775_p0.jpg\",cv2.IMREAD_COLOR)"
   ]
  },
  {
   "cell_type": "code",
   "execution_count": 3,
   "id": "028eee3f",
   "metadata": {},
   "outputs": [],
   "source": [
    "cv2.imshow('Original', img)\n",
    "cv2.waitKey(0)\n",
    " \n",
    "# It is for removing/deleting created GUI window from screen\n",
    "# and memory\n",
    "cv2.destroyAllWindows()"
   ]
  },
  {
   "cell_type": "markdown",
   "id": "49017d0d",
   "metadata": {},
   "source": [
    "Checkerboard render simulation ~"
   ]
  },
  {
   "cell_type": "code",
   "execution_count": 4,
   "id": "78baa659",
   "metadata": {},
   "outputs": [],
   "source": [
    "for i in range(0,img.shape[0]):\n",
    "    for j in range(0,img.shape[1]):\n",
    "        for k in range(0,img.shape[2]):\n",
    "            if((i+j)%2==1):\n",
    "                img[i][j][0]=0\n",
    "                img[i][j][1]=0\n",
    "                img[i][j][2]=0"
   ]
  },
  {
   "cell_type": "code",
   "execution_count": 5,
   "id": "e9cd649a",
   "metadata": {},
   "outputs": [],
   "source": [
    "cv2.imshow('Original', img)\n",
    "cv2.waitKey(0)\n",
    " \n",
    "# It is for removing/deleting created GUI window from screen\n",
    "# and memory\n",
    "cv2.destroyAllWindows()"
   ]
  },
  {
   "cell_type": "code",
   "execution_count": 6,
   "id": "ef7bc87b",
   "metadata": {},
   "outputs": [
    {
     "data": {
      "text/plain": [
       "True"
      ]
     },
     "execution_count": 6,
     "metadata": {},
     "output_type": "execute_result"
    }
   ],
   "source": [
    "cv2.imwrite(\"FirstCBR.jpg\",img)"
   ]
  },
  {
   "cell_type": "code",
   "execution_count": 7,
   "id": "ab77bac3",
   "metadata": {},
   "outputs": [],
   "source": [
    "for i in range(0,img.shape[0]):\n",
    "    for j in range(0,img.shape[1]):\n",
    "        for k in range(0,img.shape[2]):\n",
    "            if((i+j)%2==1):\n",
    "                if(i==0 and j==img.shape[1]-1):\n",
    "                    img[i][j][0]=(int(img[i][j-1][0])+int(img[i+1][j][0]))/2\n",
    "                    img[i][j][1]=(int(img[i][j-1][1])+int(img[i+1][j][1]))/2\n",
    "                    img[i][j][2]=(int(img[i][j-1][2])+int(img[i+1][j][2]))/2\n",
    "                elif(i==img.shape[0]-1 and j==img.shape[1]-1):\n",
    "                    img[i][j][0]=(int(img[i][j-1][0])+int(img[i-1][j][0]))/2\n",
    "                    img[i][j][1]=(int(img[i][j-1][1])+int(img[i-1][j][1]))/2\n",
    "                    img[i][j][2]=(int(img[i][j-1][2])+int(img[i-1][j][2]))/2\n",
    "                elif(i==0 and j==0):\n",
    "                    img[i][j][0]=(int(img[i+1][j][0])+int(img[i][j+1][0]))/2\n",
    "                    img[i][j][1]=(int(img[i+1][j][1])+int(img[i][j+1][1]))/2\n",
    "                    img[i][j][2]=(int(img[i+1][j][2])+int(img[i][j+1][2]))/2\n",
    "                elif(i==img.shape[0]-1 and j==img.shape[1]-1):\n",
    "                    img[i][j][0]=(int(img[i-1][j][0])+int(img[i][j+1][0]))/2\n",
    "                    img[i][j][1]=(int(img[i-1][j][1])+int(img[i][j+1][1]))/2\n",
    "                    img[i][j][2]=(int(img[i-1][j][2])+int(img[i][j+1][2]))/2\n",
    "                elif(i==0 and j<img.shape[1]-1):\n",
    "                    img[i][j][0]=(int(img[i][j-1][0])+int(img[i+1][j][0])+int(img[i][j+1][0]))/3\n",
    "                    img[i][j][1]=(int(img[i][j-1][1])+int(img[i+1][j][1])+int(img[i][j+1][1]))/3\n",
    "                    img[i][j][2]=(int(img[i][j-1][2])+int(img[i+1][j][2])+int(img[i][j+1][2]))/3\n",
    "\n",
    "                elif(i==img.shape[0]-1 and j<img.shape[1]-1):\n",
    "                    img[i][j][0]=(int(img[i][j-1][0])+int(img[i-1][j][0])+int(img[i][j+1][0]))/3\n",
    "                    img[i][j][1]=(int(img[i][j-1][1])+int(img[i-1][j][1])+int(img[i][j+1][1]))/3\n",
    "                    img[i][j][2]=(int(img[i][j-1][2])+int(img[i-1][j][2])+int(img[i][j+1][2]))/3\n",
    "                elif(j==img.shape[1]-1):\n",
    "                    img[i][j][0]=(int(img[i][j-1][0])+int(img[i-1][j][0])+int(img[i+1][j][0]))/3\n",
    "                    img[i][j][1]=(int(img[i][j-1][1])+int(img[i-1][j][1])+int(img[i+1][j][1]))/3\n",
    "                    img[i][j][2]=(int(img[i][j-1][2])+int(img[i-1][j][2])+int(img[i+1][j][2]))/3\n",
    "                elif(j==0):\n",
    "                    img[i][j][0]=(int(img[i][j+1][0])+int(img[i-1][j][0])+int(img[i+1][j][0]))/3\n",
    "                    img[i][j][1]=(int(img[i][j+1][1])+int(img[i-1][j][1])+int(img[i+1][j][1]))/3\n",
    "                    img[i][j][2]=(int(img[i][j+1][2])+int(img[i-1][j][2])+int(img[i+1][j][2]))/3                \n",
    "                else:\n",
    "                    img[i][j][0]=(int(img[i][j-1][0])+int(img[i-1][j][0])+int(img[i][j+1][0])+int(img[i+1][j][0]))/4\n",
    "                    img[i][j][1]=(int(img[i][j-1][1])+int(img[i-1][j][1])+int(img[i][j+1][1])+int(img[i+1][j][1]))/4\n",
    "                    img[i][j][2]=(int(img[i][j-1][2])+int(img[i-1][j][2])+int(img[i][j+1][2])+int(img[i+1][j][2]))/4\n",
    "                \n",
    "                \n",
    "                \n",
    "                    \n",
    "                        \n",
    "                    \n",
    "                \n",
    "                    \n",
    "                    \n",
    "                    \n",
    "                "
   ]
  },
  {
   "cell_type": "code",
   "execution_count": 8,
   "id": "fb1cb010",
   "metadata": {},
   "outputs": [],
   "source": [
    "cv2.imshow('Original', img)\n",
    "cv2.waitKey(0)\n",
    " \n",
    "# It is for removing/deleting created GUI window from screen\n",
    "# and memory\n",
    "cv2.destroyAllWindows()"
   ]
  },
  {
   "cell_type": "code",
   "execution_count": 9,
   "id": "a960df08",
   "metadata": {
    "scrolled": true
   },
   "outputs": [
    {
     "data": {
      "text/plain": [
       "True"
      ]
     },
     "execution_count": 9,
     "metadata": {},
     "output_type": "execute_result"
    }
   ],
   "source": [
    "cv2.imwrite(\"FinalCBR.jpg\",img)"
   ]
  },
  {
   "cell_type": "code",
   "execution_count": 10,
   "id": "e4a6ec78",
   "metadata": {},
   "outputs": [],
   "source": [
    "img2=cv2.imread(\"FinalCBR.jpg\",cv2.IMREAD_COLOR)"
   ]
  },
  {
   "cell_type": "code",
   "execution_count": 11,
   "id": "aa42d409",
   "metadata": {},
   "outputs": [],
   "source": [
    "cv2.imshow('Original', img2)\n",
    "cv2.waitKey(0)\n",
    " \n",
    "# It is for removing/deleting created GUI window from screen\n",
    "# and memory\n",
    "cv2.destroyAllWindows()"
   ]
  },
  {
   "cell_type": "code",
   "execution_count": 12,
   "id": "474d2b9c",
   "metadata": {},
   "outputs": [],
   "source": [
    "img3=cv2.imread(\"93457775_p0.jpg\",cv2.IMREAD_COLOR)"
   ]
  },
  {
   "cell_type": "code",
   "execution_count": 13,
   "id": "f97e7905",
   "metadata": {},
   "outputs": [],
   "source": [
    "img4=cv2.imread(\"93457775_p0.jpg\",cv2.IMREAD_COLOR)"
   ]
  },
  {
   "cell_type": "code",
   "execution_count": 14,
   "id": "7ab37248",
   "metadata": {},
   "outputs": [],
   "source": [
    "cv2.imshow('Original', img3)\n",
    "cv2.waitKey(0)\n",
    " \n",
    "# It is for removing/deleting created GUI window from screen\n",
    "# and memory\n",
    "cv2.destroyAllWindows()"
   ]
  },
  {
   "cell_type": "code",
   "execution_count": 15,
   "id": "e393b4b0",
   "metadata": {},
   "outputs": [],
   "source": [
    "for i in range(0,img2.shape[0]):\n",
    "    for j in range(0,img2.shape[1]):\n",
    "        img4[i][j][0]=240\n",
    "        img4[i][j][1]=255\n",
    "        img4[i][j][2]=255"
   ]
  },
  {
   "cell_type": "code",
   "execution_count": 16,
   "id": "08cdceeb",
   "metadata": {},
   "outputs": [],
   "source": [
    "cv2.imshow('Original', img4)\n",
    "cv2.waitKey(0)\n",
    " \n",
    "# It is for removing/deleting created GUI window from screen\n",
    "# and memory\n",
    "cv2.destroyAllWindows()"
   ]
  },
  {
   "cell_type": "code",
   "execution_count": 17,
   "id": "d8d134b9",
   "metadata": {},
   "outputs": [],
   "source": [
    "for i in range(0,img2.shape[0]):\n",
    "    for j in range(0,img2.shape[1]):\n",
    "        if(img2[i][j][0]!=img2[i][j][0] or img2[i][j][1]!=img3[i][j][1] or img[i][j][2]!= img[i][j][2]):\n",
    "            img4[i][j][0]=0\n",
    "            img4[i][j][1]=0\n",
    "            img4[i][j][2]=0\n",
    "            \n",
    "        "
   ]
  },
  {
   "cell_type": "code",
   "execution_count": 18,
   "id": "d539a9af",
   "metadata": {},
   "outputs": [],
   "source": [
    "cv2.imshow('Original', img4)\n",
    "cv2.waitKey(0)\n",
    " \n",
    "# It is for removing/deleting created GUI window from screen\n",
    "# and memory\n",
    "cv2.destroyAllWindows()"
   ]
  },
  {
   "cell_type": "code",
   "execution_count": 19,
   "id": "44395644",
   "metadata": {},
   "outputs": [
    {
     "data": {
      "text/plain": [
       "True"
      ]
     },
     "execution_count": 19,
     "metadata": {},
     "output_type": "execute_result"
    }
   ],
   "source": [
    "cv2.imwrite(\"Differencemap.jpg\",img4)"
   ]
  },
  {
   "cell_type": "code",
   "execution_count": null,
   "id": "8d09b385",
   "metadata": {},
   "outputs": [],
   "source": []
  }
 ],
 "metadata": {
  "kernelspec": {
   "display_name": "Python 3 (ipykernel)",
   "language": "python",
   "name": "python3"
  },
  "language_info": {
   "codemirror_mode": {
    "name": "ipython",
    "version": 3
   },
   "file_extension": ".py",
   "mimetype": "text/x-python",
   "name": "python",
   "nbconvert_exporter": "python",
   "pygments_lexer": "ipython3",
   "version": "3.10.6"
  }
 },
 "nbformat": 4,
 "nbformat_minor": 5
}
